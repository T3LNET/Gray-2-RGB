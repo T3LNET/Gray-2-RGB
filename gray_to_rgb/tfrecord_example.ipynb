{
 "cells": [
  {
   "cell_type": "markdown",
   "id": "8057870a-49af-49a1-9ee5-04f522eabe81",
   "metadata": {},
   "source": [
    "## TFRECORD EXAMPLE"
   ]
  },
  {
   "cell_type": "code",
   "execution_count": null,
   "id": "53b35770-b99b-4cf5-83b7-416f906dec55",
   "metadata": {},
   "outputs": [],
   "source": [
    "import tensorflow.compat.v1 as tf\n",
    "tf.disable_v2_behavior()\n",
    "import  numpy as np\n",
    "import  os\n",
    "import cv2"
   ]
  },
  {
   "cell_type": "code",
   "execution_count": null,
   "id": "3c4c1e68-1007-4585-905f-cf3b0d33c459",
   "metadata": {},
   "outputs": [],
   "source": [
    "def intt64Feature(value):\n",
    "    return  tf.train.Feature(int64_list=tf.train.Int64List(value=[value]))"
   ]
  },
  {
   "cell_type": "code",
   "execution_count": null,
   "id": "78441edb-ee4a-43e4-b015-568c4e2013ae",
   "metadata": {},
   "outputs": [],
   "source": [
    "def bytesFeature(value):\n",
    "    return  tf.train.Feature(bytes_list=tf.train.BytesList(value=[value]))"
   ]
  },
  {
   "cell_type": "code",
   "execution_count": null,
   "id": "6cbdb616-58a1-4c20-abf3-6dec2141d679",
   "metadata": {},
   "outputs": [],
   "source": [
    "def createMNIST2TFRecord(mnist_path,tf_path):\n",
    "    data_splits = [\"train\",\"test\",\"validation\"]\n",
    "    datasets = mnist.read_data_sets(mnist_path,dtype=tf.uint8,reshape=False,\n",
    "                                    validation_size=1000)"
   ]
  },
  {
   "cell_type": "code",
   "execution_count": null,
   "id": "999ae70e-3500-404b-bd24-2618c634c7d1",
   "metadata": {},
   "outputs": [],
   "source": [
    "for d in range(len(data_splits)):\n",
    "        cur_split = data_splits[d]\n",
    "        print(\"saving \"+cur_split)\n",
    "        dataset = datasets[d]\n",
    "        file_name = os.path.join(tf_path,cur_split+\".tfrecord\")\n",
    "        print(file_name)\n",
    "        writer = tf.python_io.TFRecordWriter(file_name)\n",
    " \n",
    "        images_count = dataset.images.shape[0]\n",
    "        for index in range(images_count) :\n",
    "            cur_img =dataset.images[index]\n",
    "            image = cur_img.tostring()\n",
    "            example = tf.train.Example(features=tf.train.Features(\n",
    "                feature={\n",
    "                    'height':intt64Feature(dataset.images.shape[1]),\n",
    "                    'width':intt64Feature(dataset.images.shape[2]),\n",
    "                    'depth':intt64Feature(dataset.images.shape[3]),\n",
    "                    'label':intt64Feature(dataset.labels[index]),\n",
    "                    \"raw_image\":bytesFeature(image)\n",
    "                }\n",
    "            ))\n",
    "            writer.write(example.SerializeToString())\n",
    "        writer.close()"
   ]
  },
  {
   "cell_type": "code",
   "execution_count": null,
   "id": "4da68525-4826-497f-a687-8ea7722e258f",
   "metadata": {},
   "outputs": [],
   "source": [
    "def loadMNISTFromTFRecord(file_name):\n",
    " \n",
    "    data_iterator = tf.python_io.tf_record_iterator(file_name)\n",
    " \n",
    "    while True:\n",
    "        try:\n",
    "            example_serialized = next(data_iterator)\n",
    "            example = tf.train.Example()\n",
    "            example.ParseFromString(example_serialized)\n",
    " \n",
    "            width = example.features.feature['width'].int64_list.value[0]\n",
    "            height = example.features.feature['height'].int64_list.value[0]\n",
    "            depth = example.features.feature['depth'].int64_list.value[0]\n",
    "            label = example.features.feature['label'].int64_list.value[0]\n",
    "            image = example.features.feature['raw_image'].bytes_list.value\n",
    " \n",
    "            flat_image = np.fromstring(image[0],np.uint8)\n",
    "            reshaped_img = flat_image.reshape((height,width,-1))\n",
    "            cv2.imshow(\"view\",reshaped_img)\n",
    "            cv2.waitKey(0)\n",
    "        except tf.errors.OutOfRangeError:\n",
    "            break"
   ]
  },
  {
   "cell_type": "code",
   "execution_count": null,
   "id": "ecdfcfea-d9d6-47d5-a7e1-613851bd7cda",
   "metadata": {},
   "outputs": [],
   "source": [
    "if __name__ == \"__main__\":\n",
    "    main()"
   ]
  }
 ],
 "metadata": {
  "kernelspec": {
   "display_name": "Python 3 (ipykernel)",
   "language": "python",
   "name": "python3"
  },
  "language_info": {
   "codemirror_mode": {
    "name": "ipython",
    "version": 3
   },
   "file_extension": ".py",
   "mimetype": "text/x-python",
   "name": "python",
   "nbconvert_exporter": "python",
   "pygments_lexer": "ipython3",
   "version": "3.8.5"
  }
 },
 "nbformat": 4,
 "nbformat_minor": 5
}
